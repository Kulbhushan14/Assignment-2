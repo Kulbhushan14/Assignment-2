{
 "cells": [
  {
   "cell_type": "markdown",
   "id": "496304ed-95d2-43ea-9d31-78285a35d1c2",
   "metadata": {},
   "source": [
    "# Assignment- 2"
   ]
  },
  {
   "cell_type": "markdown",
   "id": "e910b33f-5920-4cc1-a0af-aa7b738266da",
   "metadata": {},
   "source": [
    "### 1.What are the two values of the Boolean data type? How do you write them?"
   ]
  },
  {
   "cell_type": "markdown",
   "id": "11c62999-faa0-44de-a7c5-1a7ff9f46183",
   "metadata": {},
   "source": [
    "The boolean data type values are True and False.. \n",
    "Ex--"
   ]
  },
  {
   "cell_type": "code",
   "execution_count": 1,
   "id": "67c1fb85-b696-454c-afdc-67d4ff7897ed",
   "metadata": {},
   "outputs": [],
   "source": [
    "x= True\n",
    "Y= False "
   ]
  },
  {
   "cell_type": "markdown",
   "id": "c19eebe7-bd30-4e6d-b319-ea1243fcea3a",
   "metadata": {},
   "source": [
    "### 2. What are the three different types of Boolean operators?"
   ]
  },
  {
   "cell_type": "raw",
   "id": "b829ff90-1f46-498d-aafb-47e09feefc81",
   "metadata": {},
   "source": [
    "In python there are three main operator:\n",
    "AND -- IF the tow operator is true it return true otherwise false \n",
    "OR -- It will return when atlest one operator is true other wise it will false\n",
    "NOT --- The not operator returns the opposite Boolean value of its operand. If the operand is True, not returns False, and if the operand is False, not returns True"
   ]
  },
  {
   "cell_type": "markdown",
   "id": "d03782c1-31a7-42c4-acdc-4e9ad4f11248",
   "metadata": {},
   "source": [
    "### 3. Make a list of each Boolean operator&#39;s truth tables (i.e. every possible combination of Boolean\r",
    "### \n",
    "values for the operator and what it evaluate )."
   ]
  },
  {
   "cell_type": "markdown",
   "id": "50c19b91-0c63-440a-8d03-2c41592449c3",
   "metadata": {},
   "source": [
    "AND Operator (and):\n",
    "\n",
    "A     |\t  B  | A and B |\n",
    "|-----|------|----------|\n",
    "False |\tFalse |\tFalse\n",
    "False |\tTrue  |\tFalse\n",
    "True  |\tFalse |\tFalse\n",
    "True  |\tTrue  |\tTrue\n",
    "\n",
    "\n",
    "OR Operator (or):\n",
    "A\t|B\t|A or B\n",
    "|-----|------|-------|\r\n",
    "Fals  \tFalse \tFalse\r\n",
    "False\tTrue\tTrue\r\n",
    "True\tFalse\tTrue\r\n",
    "True\tTrue\tTrue\n",
    "\n",
    "NOT Operator (not):\n",
    "\n",
    "A | not A | \n",
    "|-----|-----|\n",
    "True  | False |\n",
    "False | TrueTrue"
   ]
  },
  {
   "cell_type": "markdown",
   "id": "7d1830ab-40e4-4bd1-b9f3-48d158fcba55",
   "metadata": {},
   "source": [
    "### 4. What are the values of the following expressions?\r\n",
    "(5 &gt; 4) and (3 == 5)\r\n",
    "not (5 &gt; 4)\r\n",
    "(5 &gt; 4) or (3 == 5)\r\n",
    "not ((5 &gt; 4) or (3 == 5))\r\n",
    "(True and True) and (True == False)\r\n",
    "(not False) or (not True)"
   ]
  },
  {
   "cell_type": "code",
   "execution_count": 3,
   "id": "4ceb9e71-940d-4e67-8f7a-125fc7bff743",
   "metadata": {},
   "outputs": [
    {
     "data": {
      "text/plain": [
       "False"
      ]
     },
     "execution_count": 3,
     "metadata": {},
     "output_type": "execute_result"
    }
   ],
   "source": [
    "\n",
    "(5>4) and (3==5)"
   ]
  },
  {
   "cell_type": "code",
   "execution_count": 4,
   "id": "7c95563d-78af-4e55-9fdb-f4580f8c31ce",
   "metadata": {},
   "outputs": [
    {
     "data": {
      "text/plain": [
       "False"
      ]
     },
     "execution_count": 4,
     "metadata": {},
     "output_type": "execute_result"
    }
   ],
   "source": [
    "not(5>4)"
   ]
  },
  {
   "cell_type": "code",
   "execution_count": 6,
   "id": "455d2ac4-c937-44f6-82b1-be452cc14112",
   "metadata": {},
   "outputs": [
    {
     "data": {
      "text/plain": [
       "True"
      ]
     },
     "execution_count": 6,
     "metadata": {},
     "output_type": "execute_result"
    }
   ],
   "source": [
    "(5>4) or (3==5)"
   ]
  },
  {
   "cell_type": "code",
   "execution_count": 7,
   "id": "6eb48008-aa43-44c3-8e5e-ca8ed281208e",
   "metadata": {},
   "outputs": [
    {
     "data": {
      "text/plain": [
       "False"
      ]
     },
     "execution_count": 7,
     "metadata": {},
     "output_type": "execute_result"
    }
   ],
   "source": [
    "not ((5>4) or (3==5))"
   ]
  },
  {
   "cell_type": "code",
   "execution_count": 8,
   "id": "ffc233e7-52ad-42f1-91ce-8db83e4ccb73",
   "metadata": {},
   "outputs": [
    {
     "data": {
      "text/plain": [
       "False"
      ]
     },
     "execution_count": 8,
     "metadata": {},
     "output_type": "execute_result"
    }
   ],
   "source": [
    "(True and True) and (True == False)"
   ]
  },
  {
   "cell_type": "code",
   "execution_count": 9,
   "id": "5e175ff0-d903-44b2-85b2-68ec618e7af8",
   "metadata": {},
   "outputs": [
    {
     "data": {
      "text/plain": [
       "True"
      ]
     },
     "execution_count": 9,
     "metadata": {},
     "output_type": "execute_result"
    }
   ],
   "source": [
    "(not False) or (not True)"
   ]
  },
  {
   "cell_type": "markdown",
   "id": "fdd58e4c-cebb-4915-a8fc-8bc7b2f4cdcb",
   "metadata": {},
   "source": [
    "### 5. What are the six comparison operators?"
   ]
  },
  {
   "cell_type": "raw",
   "id": "16340b69-e968-4959-b755-28d3791aa931",
   "metadata": {},
   "source": [
    "1. Equal to (==):     Checks if two operands are equal.\n",
    "2. Not equal to (!=): Checks if two operands are not equal.\n",
    "3. Greater than (>):  Checks if the left operand is greater than the right operand.\n",
    "4. Less than (<):     Checks if the left operand is less than the right operand.\n",
    "5. Greater than or equal to (>=):  Checks if the left operand is greater than or equal to the right operand.\n",
    "6. Less than or equal to (<=):    Checks if the left operand is less than or equal to the right operand."
   ]
  },
  {
   "cell_type": "markdown",
   "id": "32501149-2779-44f3-a5a2-16087cf31298",
   "metadata": {},
   "source": [
    "### 6. How do you tell the difference between the equal to and assignment operators?Describe a \n",
    "condition and when you would use one."
   ]
  },
  {
   "cell_type": "raw",
   "id": "09c16d83-a1d4-46f8-8b9d-131ad0147baa",
   "metadata": {},
   "source": [
    "Equal to Operator (==):\n",
    "                        The equal to operator compares two values to determine if they are equal.\n",
    "                        It returns True if the values are equal, otherwise, it returns False.\n",
    "Using the Equal to Operator (==):\n",
    "                        You would use the equal to operator when you want to compare two values to check if they are equal.\n",
    "\n",
    "Assignment Operator (=):\n",
    "                        The assignment operator assigns the value on the right-hand side to the variable on the left-hand side.\n",
    "                        It does not compare values; instead, it stores a value in a variable.\n",
    "Using the Assignment Operator (=):\n",
    "                        You would use the assignment operator when you want to store a value in a variable. "
   ]
  },
  {
   "cell_type": "markdown",
   "id": "036223be-6793-49a0-9ec1-d51a729c17e1",
   "metadata": {},
   "source": [
    "### 7. Identify the three blocks in this code:\r\n",
    "spam = 0\r\n",
    "if spam == 10:\r\n",
    "print(&#39;eggs&#39;)\r\n",
    "if spam &gt; 5:\r\n",
    "print(&#39;bacon&#39;)\r\n",
    "else:\r\n",
    "print(&#39;ham&#39;)\r\n",
    "print(&#39;spam&#39;)\r\n",
    "print(&#39;spam&#39;)"
   ]
  },
  {
   "cell_type": "code",
   "execution_count": 12,
   "id": "45c58780-1f5b-4711-bd99-8937d5ba4056",
   "metadata": {},
   "outputs": [
    {
     "name": "stdout",
     "output_type": "stream",
     "text": [
      "ham\n",
      "spam\n",
      "spam\n"
     ]
    }
   ],
   "source": [
    "spam = 0\n",
    "if spam == 10:\n",
    "    print('eggs')\n",
    "if spam > 5:\n",
    "    print('bacon')\n",
    "else:\n",
    "    print('ham')\n",
    "    print('spam')\n",
    "    print('spam')"
   ]
  },
  {
   "cell_type": "markdown",
   "id": "61be8b41-4f0c-4900-937c-798a5088cd30",
   "metadata": {},
   "source": [
    "### 8. Write code that prints Hello if 1 is stored in spam, prints Howdy if 2 is stored in spam, and prints Greetings! if anything else is stored in spam."
   ]
  },
  {
   "cell_type": "code",
   "execution_count": 15,
   "id": "2bde9c46-5032-4fba-bccb-5c88338f4b36",
   "metadata": {},
   "outputs": [
    {
     "name": "stdin",
     "output_type": "stream",
     "text": [
      "ENTER THE YOUR SPAM VALUE 2\n"
     ]
    },
    {
     "name": "stdout",
     "output_type": "stream",
     "text": [
      "Howdy\n"
     ]
    }
   ],
   "source": [
    "spam =int(input(\"ENTER THE YOUR SPAM VALUE\"))\n",
    "\n",
    "if spam == 1:\n",
    "    print(\"Hello\")\n",
    "elif spam == 2:\n",
    "    print(\"Howdy\")\n",
    "else:\n",
    "    print(\"Greetings!\")"
   ]
  },
  {
   "cell_type": "markdown",
   "id": "d6398f48-e107-48f0-906b-fecd5858b9be",
   "metadata": {},
   "source": [
    "### 9.If your programme is stuck in an endless loop, what keys you’ll press?"
   ]
  },
  {
   "cell_type": "markdown",
   "id": "ed1c6727-dc45-4e8b-a354-fb64a4edc58b",
   "metadata": {},
   "source": [
    "If your program is stuck in an endless loop and you're running it from the command line or an integrated development environment (IDE), you can typically interrupt the execution using the following key combination:\n",
    "\n",
    "Ctrl + C\n",
    "Pressing Ctrl + C sends a KeyboardInterrupt signal to the Python interpreter, which interrupts the execution of the program, allowing you to regain control and stop the endless loop.\n",
    "\n",
    "If you're running your Python script in an environment where Ctrl + C doesn't work, you might need to terminate the execution using other means provided by the specific environment or operating system."
   ]
  },
  {
   "cell_type": "markdown",
   "id": "cc8c683d-afcd-4bc5-96f0-660f20481431",
   "metadata": {},
   "source": [
    "### 10. How can you tell the difference between break and continue?"
   ]
  },
  {
   "cell_type": "markdown",
   "id": "ccb87cc4-a41d-40bb-a4f5-66fe383fc46b",
   "metadata": {},
   "source": [
    "In Python, break and continue are both control flow statements used within loops, such as for loops and while loops, but they serve different purposes:\n",
    "\n",
    "break statement:\n",
    "\n",
    "The break statement is used to exit or terminate the loop prematurely.\n",
    "When encountered, the break statement immediately exits the loop, and the program continues with the next statement following the loop.\n",
    "\n",
    "continue statement:\r\n",
    "\r\n",
    "The continue statement is used to skip the current iteration of the loop and move to the next iteration.\r\n",
    "When encountered, the continue statement skips the remaining code inside the loop for the current iteration and jumps to the next iteration.\n"
   ]
  },
  {
   "cell_type": "markdown",
   "id": "31dca075-1248-4a47-ad79-78055f34280b",
   "metadata": {},
   "source": [
    "### 11. In a for loop, what is the difference between range(10), range(0, 10), and range(0, 10, 1)?"
   ]
  },
  {
   "cell_type": "code",
   "execution_count": 16,
   "id": "69d9eab8-7911-49b5-a3b7-a98fb7d85e49",
   "metadata": {},
   "outputs": [
    {
     "name": "stdout",
     "output_type": "stream",
     "text": [
      "0\n",
      "1\n",
      "2\n",
      "3\n",
      "4\n",
      "5\n",
      "6\n",
      "7\n",
      "8\n",
      "9\n"
     ]
    }
   ],
   "source": [
    "for i in range(10):\n",
    "    print(i)"
   ]
  },
  {
   "cell_type": "code",
   "execution_count": 17,
   "id": "b332e632-d24e-4d89-a684-b7147084144b",
   "metadata": {},
   "outputs": [
    {
     "name": "stdout",
     "output_type": "stream",
     "text": [
      "0\n",
      "1\n",
      "2\n",
      "3\n",
      "4\n",
      "5\n",
      "6\n",
      "7\n",
      "8\n",
      "9\n"
     ]
    }
   ],
   "source": [
    "for i in range(0,10):\n",
    "    print(i)"
   ]
  },
  {
   "cell_type": "code",
   "execution_count": 18,
   "id": "6b5dfed4-ce8c-473b-a506-6bdc531c1f59",
   "metadata": {},
   "outputs": [
    {
     "name": "stdout",
     "output_type": "stream",
     "text": [
      "0\n",
      "1\n",
      "2\n",
      "3\n",
      "4\n",
      "5\n",
      "6\n",
      "7\n",
      "8\n",
      "9\n"
     ]
    }
   ],
   "source": [
    "for i in range(0,10,1):\n",
    "    print(i)"
   ]
  },
  {
   "cell_type": "markdown",
   "id": "822dcd82-44bd-46de-a623-27a15390e39a",
   "metadata": {},
   "source": [
    "Here is no difference in iput:\n",
    "but \n",
    "range(10):\r\n",
    "\r\n",
    "This creates a range object that generates numbers from 0 up to (but not including) 1\n",
    "\n",
    "range(0, 10):\r\n",
    "\r\n",
    "This explicitly defines a range starting from 0 and ending at (but not including) 10.\r\n",
    "The syntax is range(start, stop), where start is inclusive and stop is exclusive.\r\n",
    "The step is implicitly assumed to b\n",
    "\n",
    "range(0, 10, 1):\r\n",
    "\r\n",
    "This explicitly defines a range starting from 0 and ending at (but not including) 10 with a step of 1.e 1.0."
   ]
  },
  {
   "cell_type": "markdown",
   "id": "6aa20018-5728-4c2c-a13b-97073f7d3ccd",
   "metadata": {},
   "source": [
    "### 12. Write a short program that prints the numbers 1 to 10 using a for loop. Then write an equivalent \n",
    "program that prints the numbers 1 to 10 using a while loop."
   ]
  },
  {
   "cell_type": "code",
   "execution_count": 20,
   "id": "78e69bbf-e0e2-4501-8896-d6a4a08cf562",
   "metadata": {},
   "outputs": [
    {
     "name": "stdout",
     "output_type": "stream",
     "text": [
      "1\n",
      "2\n",
      "3\n",
      "4\n",
      "5\n",
      "6\n",
      "7\n",
      "8\n",
      "9\n",
      "10\n"
     ]
    }
   ],
   "source": [
    "for i in range(1,11):\n",
    "    print(i)"
   ]
  },
  {
   "cell_type": "code",
   "execution_count": 1,
   "id": "637f2ba7-4a72-48ef-9831-16db8c870b59",
   "metadata": {},
   "outputs": [
    {
     "name": "stdout",
     "output_type": "stream",
     "text": [
      "1\n",
      "2\n",
      "3\n",
      "4\n",
      "5\n",
      "6\n",
      "7\n",
      "8\n",
      "9\n",
      "10\n"
     ]
    }
   ],
   "source": [
    "i =1\n",
    "while i <=10:\n",
    "    print(i)\n",
    "    i+=1"
   ]
  },
  {
   "cell_type": "markdown",
   "id": "60059e50-5540-40f3-9378-e8b749ab163a",
   "metadata": {},
   "source": [
    "### 13. If you had a function named bacon() inside a module named spam, how would you call it after \n",
    "importing spam?"
   ]
  },
  {
   "cell_type": "markdown",
   "id": "dd81e744-49fd-4205-8171-1011577f6fcd",
   "metadata": {},
   "source": [
    "import spam\n",
    "\n",
    "spam.bacon()\n",
    "\n",
    "his assumes that the bacon() function is defined within the spam module. Using dot notation (spam.bacon()) allows you to access functions, variables, or other objects within the imported module."
   ]
  },
  {
   "cell_type": "code",
   "execution_count": null,
   "id": "b36fa161-2e96-44f0-b218-2e9372727c40",
   "metadata": {},
   "outputs": [],
   "source": []
  }
 ],
 "metadata": {
  "kernelspec": {
   "display_name": "Python 3 (ipykernel)",
   "language": "python",
   "name": "python3"
  },
  "language_info": {
   "codemirror_mode": {
    "name": "ipython",
    "version": 3
   },
   "file_extension": ".py",
   "mimetype": "text/x-python",
   "name": "python",
   "nbconvert_exporter": "python",
   "pygments_lexer": "ipython3",
   "version": "3.11.5"
  }
 },
 "nbformat": 4,
 "nbformat_minor": 5
}
